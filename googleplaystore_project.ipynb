{
 "cells": [
  {
   "cell_type": "code",
   "execution_count": 63,
   "metadata": {},
   "outputs": [],
   "source": [
    "# PySpark Imports\n",
    "from pyspark.sql.session import SparkSession\n",
    "from pyspark.sql import functions as F\n",
    "from pyspark.sql import types as T\n",
    "\n",
    "# Regular Python imports\n",
    "import os\n",
    "import sys"
   ]
  },
  {
   "cell_type": "code",
   "execution_count": 64,
   "metadata": {},
   "outputs": [],
   "source": [
    "# System paths\n",
    "os.environ['PYSPARK_PYTHON'] = sys.executable\n",
    "os.environ['PYSPARK_DRIVER_PYTHON'] = sys.executable\n",
    "\n",
    "# Creating a Spark Session\n",
    "spark = SparkSession.builder.appName('Playstore_Spark').getOrCreate()"
   ]
  },
  {
   "cell_type": "markdown",
   "metadata": {},
   "source": [
    "### Create a DataFrame"
   ]
  },
  {
   "cell_type": "code",
   "execution_count": 65,
   "metadata": {},
   "outputs": [],
   "source": [
    "df = spark.read.load('googleplaystore.csv', format='csv', header=True, sep=',', escape='\"', inferSchema=True)"
   ]
  },
  {
   "cell_type": "markdown",
   "metadata": {},
   "source": [
    "### Data cleaning"
   ]
  },
  {
   "cell_type": "code",
   "execution_count": 66,
   "metadata": {},
   "outputs": [],
   "source": [
    "df = df.drop(\"size\", \"Content Rating\", \"Last Updated\", \"Android Ver\", \"Current Ver\")"
   ]
  },
  {
   "cell_type": "code",
   "execution_count": 67,
   "metadata": {},
   "outputs": [],
   "source": [
    "df = df.withColumn(\"Reviews\", F.col(\"Reviews\").cast(T.IntegerType()))\\\n",
    "    .withColumn(\"Installs\",F.regexp_replace(F.col(\"Installs\"), \"[^0-9]\",\"\"))\\\n",
    "    .withColumn(\"Installs\", F.col(\"Installs\").cast(T.IntegerType()))\\\n",
    "    .withColumn(\"Price\", F.regexp_replace(F.col(\"Price\"), \"[$]\",\"\"))\\\n",
    "    .withColumn(\"Price\", F.round(F.col(\"Price\").cast(T.FloatType()), 2))"
   ]
  },
  {
   "cell_type": "code",
   "execution_count": 68,
   "metadata": {},
   "outputs": [],
   "source": [
    "df.createOrReplaceTempView(\"apps\")"
   ]
  },
  {
   "cell_type": "markdown",
   "metadata": {},
   "source": [
    "### Top reviews given to the apps"
   ]
  },
  {
   "cell_type": "code",
   "execution_count": 69,
   "metadata": {},
   "outputs": [
    {
     "name": "stdout",
     "output_type": "stream",
     "text": [
      "+--------------------+-------------+\n",
      "|                 App|total_reviews|\n",
      "+--------------------+-------------+\n",
      "|           Instagram|    266241989|\n",
      "|  WhatsApp Messenger|    207348304|\n",
      "|      Clash of Clans|    179558781|\n",
      "|Messenger – Text ...|    169932272|\n",
      "|      Subway Surfers|    166331958|\n",
      "|    Candy Crush Saga|    156993136|\n",
      "|            Facebook|    156286514|\n",
      "|         8 Ball Pool|     99386198|\n",
      "|        Clash Royale|     92530298|\n",
      "|            Snapchat|     68045010|\n",
      "+--------------------+-------------+\n",
      "only showing top 10 rows\n",
      "\n"
     ]
    }
   ],
   "source": [
    "spark.sql(\"select App, sum(Reviews) as total_reviews from apps group by App order by total_reviews desc\").show(10)"
   ]
  },
  {
   "cell_type": "markdown",
   "metadata": {},
   "source": [
    "### Top 10 installs per app"
   ]
  },
  {
   "cell_type": "code",
   "execution_count": 70,
   "metadata": {},
   "outputs": [
    {
     "name": "stdout",
     "output_type": "stream",
     "text": [
      "+--------------------+----+--------------+\n",
      "|                 App|Type|total_installs|\n",
      "+--------------------+----+--------------+\n",
      "|      Subway Surfers|Free|    6000000000|\n",
      "|           Instagram|Free|    4000000000|\n",
      "|        Google Drive|Free|    4000000000|\n",
      "|            Hangouts|Free|    4000000000|\n",
      "|       Google Photos|Free|    4000000000|\n",
      "|         Google News|Free|    4000000000|\n",
      "|    Candy Crush Saga|Free|    3500000000|\n",
      "|  WhatsApp Messenger|Free|    3000000000|\n",
      "|               Gmail|Free|    3000000000|\n",
      "|        Temple Run 2|Free|    3000000000|\n",
      "|Skype - free IM &...|Free|    3000000000|\n",
      "|Google Chrome: Fa...|Free|    3000000000|\n",
      "|Messenger – Text ...|Free|    3000000000|\n",
      "|Maps - Navigate &...|Free|    3000000000|\n",
      "|     Viber Messenger|Free|    2500000000|\n",
      "|   Google Play Games|Free|    2000000000|\n",
      "|            Facebook|Free|    2000000000|\n",
      "|            Snapchat|Free|    2000000000|\n",
      "|imo free video ca...|Free|    2000000000|\n",
      "|  Google Street View|Free|    2000000000|\n",
      "+--------------------+----+--------------+\n",
      "only showing top 20 rows\n",
      "\n"
     ]
    }
   ],
   "source": [
    "spark.sql(\"select App, Type, sum(Installs) as total_installs from apps group by App, Type order by total_installs desc\").show()"
   ]
  },
  {
   "cell_type": "markdown",
   "metadata": {},
   "source": [
    "### Category wise distribution"
   ]
  },
  {
   "cell_type": "code",
   "execution_count": 71,
   "metadata": {},
   "outputs": [
    {
     "name": "stdout",
     "output_type": "stream",
     "text": [
      "+------------------+--------------+\n",
      "|          Category|total_installs|\n",
      "+------------------+--------------+\n",
      "|              GAME|   35086024415|\n",
      "|     COMMUNICATION|   32647276251|\n",
      "|      PRODUCTIVITY|   14176091369|\n",
      "|            SOCIAL|   14069867902|\n",
      "|             TOOLS|   11452771915|\n",
      "|            FAMILY|   10258263505|\n",
      "|       PHOTOGRAPHY|   10088247655|\n",
      "|NEWS_AND_MAGAZINES|    7496317760|\n",
      "|  TRAVEL_AND_LOCAL|    6868887146|\n",
      "|     VIDEO_PLAYERS|    6222002720|\n",
      "+------------------+--------------+\n",
      "only showing top 10 rows\n",
      "\n"
     ]
    }
   ],
   "source": [
    "spark.sql(\"\"\"\n",
    "    select Category, sum(Installs) as total_installs \n",
    "    from apps \n",
    "    group by Category\n",
    "    order by total_installs desc\"\"\"\n",
    ").show(10)"
   ]
  },
  {
   "cell_type": "markdown",
   "metadata": {},
   "source": [
    "### Top paid apps"
   ]
  },
  {
   "cell_type": "code",
   "execution_count": 74,
   "metadata": {},
   "outputs": [
    {
     "name": "stdout",
     "output_type": "stream",
     "text": [
      "+--------------------+------+\n",
      "|                 App| price|\n",
      "+--------------------+------+\n",
      "|I'm Rich - Trump ...| 400.0|\n",
      "|most expensive ap...|399.99|\n",
      "|           I am Rich|399.99|\n",
      "|  I AM RICH PRO PLUS|399.99|\n",
      "|  I am rich(premium)|399.99|\n",
      "|      I am Rich Plus|399.99|\n",
      "|I'm Rich/Eu sou R...|399.99|\n",
      "|   I Am Rich Premium|399.99|\n",
      "|       I Am Rich Pro|399.99|\n",
      "|          I am Rich!|399.99|\n",
      "+--------------------+------+\n",
      "only showing top 10 rows\n",
      "\n"
     ]
    }
   ],
   "source": [
    "spark.sql(\"\"\"\n",
    "    select App, round(sum(Price),2) as price\n",
    "    from apps\n",
    "    where Type = 'Paid'\n",
    "    group by App\n",
    "    order by price desc\"\"\"\n",
    ").show(10)"
   ]
  }
 ],
 "metadata": {
  "kernelspec": {
   "display_name": "BigDataProject",
   "language": "python",
   "name": "python3"
  },
  "language_info": {
   "codemirror_mode": {
    "name": "ipython",
    "version": 3
   },
   "file_extension": ".py",
   "mimetype": "text/x-python",
   "name": "python",
   "nbconvert_exporter": "python",
   "pygments_lexer": "ipython3",
   "version": "3.11.8"
  }
 },
 "nbformat": 4,
 "nbformat_minor": 2
}
